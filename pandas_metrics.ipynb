{
 "cells": [
  {
   "cell_type": "code",
   "execution_count": 56,
   "id": "5232c94b",
   "metadata": {},
   "outputs": [],
   "source": [
    "import pandas as pd"
   ]
  },
  {
   "cell_type": "code",
   "execution_count": 57,
   "id": "7349f8d1",
   "metadata": {},
   "outputs": [
    {
     "name": "stdout",
     "output_type": "stream",
     "text": [
      "\u001b[0m\u001b[01;34mgrid\u001b[0m/                           \u001b[01;34mshapenet_3planeTableWSmallNoise\u001b[0m/\r\n",
      "\u001b[01;34mshapenet_3plane\u001b[0m/                \u001b[01;34mshapenet_3planeWBigNoise\u001b[0m/\r\n",
      "\u001b[01;34mshapenet_3planeTable\u001b[0m/           \u001b[01;34mshapenet_3planeWSmallNoise\u001b[0m/\r\n",
      "\u001b[01;34mshapenet_3planeTableWBigNoise\u001b[0m/\r\n"
     ]
    }
   ],
   "source": [
    "ls out/pointcloud/"
   ]
  },
  {
   "cell_type": "code",
   "execution_count": 58,
   "id": "403e1bfd",
   "metadata": {},
   "outputs": [],
   "source": [
    "metrics = pd.read_csv('out/pointcloud/shapenet_3planeTable/generation/eval_meshes.csv')\n",
    "pd_metrics = pd.DataFrame(metrics)"
   ]
  },
  {
   "cell_type": "code",
   "execution_count": 59,
   "id": "061cac10",
   "metadata": {},
   "outputs": [
    {
     "data": {
      "text/html": [
       "<div>\n",
       "<style scoped>\n",
       "    .dataframe tbody tr th:only-of-type {\n",
       "        vertical-align: middle;\n",
       "    }\n",
       "\n",
       "    .dataframe tbody tr th {\n",
       "        vertical-align: top;\n",
       "    }\n",
       "\n",
       "    .dataframe thead th {\n",
       "        text-align: right;\n",
       "    }\n",
       "</style>\n",
       "<table border=\"1\" class=\"dataframe\">\n",
       "  <thead>\n",
       "    <tr style=\"text-align: right;\">\n",
       "      <th></th>\n",
       "      <th>class name</th>\n",
       "      <th>accuracy (mesh)</th>\n",
       "      <th>accuracy2 (mesh)</th>\n",
       "      <th>chamfer-L1 (mesh)</th>\n",
       "      <th>chamfer-L2 (mesh)</th>\n",
       "      <th>completeness (mesh)</th>\n",
       "      <th>completeness2 (mesh)</th>\n",
       "      <th>f-score (mesh)</th>\n",
       "      <th>f-score-15 (mesh)</th>\n",
       "      <th>f-score-20 (mesh)</th>\n",
       "      <th>iou (mesh)</th>\n",
       "      <th>normals (mesh)</th>\n",
       "      <th>normals accuracy (mesh)</th>\n",
       "      <th>normals completeness (mesh)</th>\n",
       "    </tr>\n",
       "  </thead>\n",
       "  <tbody>\n",
       "    <tr>\n",
       "      <th>0</th>\n",
       "      <td>table</td>\n",
       "      <td>0.00543</td>\n",
       "      <td>0.000093</td>\n",
       "      <td>0.005327</td>\n",
       "      <td>0.000078</td>\n",
       "      <td>0.005224</td>\n",
       "      <td>0.000064</td>\n",
       "      <td>0.933132</td>\n",
       "      <td>0.973874</td>\n",
       "      <td>0.982524</td>\n",
       "      <td>0.809759</td>\n",
       "      <td>0.950053</td>\n",
       "      <td>0.949526</td>\n",
       "      <td>0.950581</td>\n",
       "    </tr>\n",
       "  </tbody>\n",
       "</table>\n",
       "</div>"
      ],
      "text/plain": [
       "  class name  accuracy (mesh)  accuracy2 (mesh)  chamfer-L1 (mesh)  \\\n",
       "0      table          0.00543          0.000093           0.005327   \n",
       "\n",
       "   chamfer-L2 (mesh)  completeness (mesh)  completeness2 (mesh)  \\\n",
       "0           0.000078             0.005224              0.000064   \n",
       "\n",
       "   f-score (mesh)  f-score-15 (mesh)  f-score-20 (mesh)  iou (mesh)  \\\n",
       "0        0.933132           0.973874           0.982524    0.809759   \n",
       "\n",
       "   normals (mesh)  normals accuracy (mesh)  normals completeness (mesh)  \n",
       "0        0.950053                 0.949526                     0.950581  "
      ]
     },
     "execution_count": 59,
     "metadata": {},
     "output_type": "execute_result"
    }
   ],
   "source": [
    "pd_metrics.head(13)"
   ]
  },
  {
   "cell_type": "code",
   "execution_count": 60,
   "id": "07647016",
   "metadata": {},
   "outputs": [
    {
     "data": {
      "text/plain": [
       "0.05327089400173574"
      ]
     },
     "execution_count": 60,
     "metadata": {},
     "output_type": "execute_result"
    }
   ],
   "source": [
    "pd_metrics['chamfer-L1 (mesh)'].mean()*10"
   ]
  },
  {
   "cell_type": "code",
   "execution_count": 61,
   "id": "0ab8fd17",
   "metadata": {},
   "outputs": [
    {
     "data": {
      "text/plain": [
       "0.0007849395488172988"
      ]
     },
     "execution_count": 61,
     "metadata": {},
     "output_type": "execute_result"
    }
   ],
   "source": [
    "pd_metrics['chamfer-L2 (mesh)'].mean()*10"
   ]
  },
  {
   "cell_type": "code",
   "execution_count": 62,
   "id": "255db733",
   "metadata": {},
   "outputs": [
    {
     "data": {
      "text/plain": [
       "0.8097594533244838"
      ]
     },
     "execution_count": 62,
     "metadata": {},
     "output_type": "execute_result"
    }
   ],
   "source": [
    "pd_metrics['iou (mesh)'].mean()"
   ]
  },
  {
   "cell_type": "code",
   "execution_count": null,
   "id": "3c0d64cc",
   "metadata": {},
   "outputs": [],
   "source": []
  }
 ],
 "metadata": {
  "kernelspec": {
   "display_name": "conv_onet",
   "language": "python",
   "name": "conv_onet"
  },
  "language_info": {
   "codemirror_mode": {
    "name": "ipython",
    "version": 3
   },
   "file_extension": ".py",
   "mimetype": "text/x-python",
   "name": "python",
   "nbconvert_exporter": "python",
   "pygments_lexer": "ipython3",
   "version": "3.6.7"
  }
 },
 "nbformat": 4,
 "nbformat_minor": 5
}
