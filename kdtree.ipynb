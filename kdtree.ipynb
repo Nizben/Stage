{
 "cells": [
  {
   "cell_type": "code",
   "execution_count": 1,
   "id": "b51b2801",
   "metadata": {},
   "outputs": [],
   "source": [
    "import torch\n",
    "import torch.optim as optim\n",
    "import numpy as np\n",
    "import os\n",
    "import argparse\n",
    "import time, datetime\n",
    "import matplotlib; matplotlib.use('Agg')\n",
    "from src import config, data\n",
    "from src.checkpoints import CheckpointIO\n",
    "from collections import defaultdict\n",
    "import shutil\n",
    "from tensorboardX import SummaryWriter\n",
    "from src.utils.libkdtree import KDTree\n",
    "# import pickle\n",
    "# from scipy.spatial import cKDTree"
   ]
  },
  {
   "cell_type": "code",
   "execution_count": 2,
   "id": "68d28df4",
   "metadata": {},
   "outputs": [],
   "source": [
    "!which cuda"
   ]
  },
  {
   "cell_type": "code",
   "execution_count": 3,
   "id": "562a4300",
   "metadata": {},
   "outputs": [],
   "source": [
    "cfg = config.load_config('configs/pointcloud/grid.yaml', 'configs/default.yaml')\n",
    "is_cuda = (torch.cuda.is_available())\n",
    "device = torch.device(\"cuda\" if is_cuda else \"cpu\")"
   ]
  },
  {
   "cell_type": "code",
   "execution_count": 10,
   "id": "de8debd5",
   "metadata": {},
   "outputs": [
    {
     "data": {
      "text/plain": [
       "(100000, 3)"
      ]
     },
     "execution_count": 10,
     "metadata": {},
     "output_type": "execute_result"
    }
   ],
   "source": [
    "train_dataset = config.get_dataset('train', cfg)\n",
    "shape = train_dataset[0]\n",
    "shape['inputs.kdtree_points'].shape"
   ]
  },
  {
   "cell_type": "code",
   "execution_count": 8,
   "id": "cf0b3880",
   "metadata": {},
   "outputs": [
    {
     "data": {
      "text/plain": [
       "dict_keys(['points', 'points.occ', 'points.dist', 'points.closest_points', 'inputs', 'inputs.normals', 'inputs.kdtree_points'])"
      ]
     },
     "execution_count": 8,
     "metadata": {},
     "output_type": "execute_result"
    }
   ],
   "source": [
    "shape.keys()"
   ]
  },
  {
   "cell_type": "code",
   "execution_count": 26,
   "id": "0afc5d70",
   "metadata": {},
   "outputs": [
    {
     "data": {
      "text/plain": [
       "(5, 100)"
      ]
     },
     "execution_count": 26,
     "metadata": {},
     "output_type": "execute_result"
    }
   ],
   "source": [
    "dast.shape"
   ]
  },
  {
   "cell_type": "code",
   "execution_count": 5,
   "id": "b2f8b8a5",
   "metadata": {},
   "outputs": [
    {
     "ename": "NameError",
     "evalue": "name 'b' is not defined",
     "output_type": "error",
     "traceback": [
      "\u001b[0;31m---------------------------------------------------------------------------\u001b[0m",
      "\u001b[0;31mNameError\u001b[0m                                 Traceback (most recent call last)",
      "\u001b[0;32m<ipython-input-5-ce2e8bd0f327>\u001b[0m in \u001b[0;36m<module>\u001b[0;34m\u001b[0m\n\u001b[0;32m----> 1\u001b[0;31m \u001b[0ms\u001b[0m \u001b[0;34m=\u001b[0m \u001b[0mpickle\u001b[0m\u001b[0;34m.\u001b[0m\u001b[0mdumps\u001b[0m\u001b[0;34m(\u001b[0m\u001b[0mb\u001b[0m\u001b[0;34m)\u001b[0m\u001b[0;34m\u001b[0m\u001b[0;34m\u001b[0m\u001b[0m\n\u001b[0m",
      "\u001b[0;31mNameError\u001b[0m: name 'b' is not defined"
     ]
    }
   ],
   "source": [
    "s = pickle.dumps(b)"
   ]
  },
  {
   "cell_type": "code",
   "execution_count": null,
   "id": "c678420b",
   "metadata": {},
   "outputs": [],
   "source": []
  },
  {
   "cell_type": "code",
   "execution_count": 5,
   "id": "ec7751d6",
   "metadata": {},
   "outputs": [],
   "source": [
    "def collate(data_list):\n",
    "    return {k:[x[k] for x in data_list] for k in data_list[0].keys()}"
   ]
  },
  {
   "cell_type": "code",
   "execution_count": 11,
   "id": "9eb8a373",
   "metadata": {},
   "outputs": [],
   "source": [
    "train_loader = torch.utils.data.DataLoader(\n",
    "    train_dataset, batch_size=32, num_workers=8, shuffle=True,\n",
    "    collate_fn=data.collate_remove_none,\n",
    "    worker_init_fn=data.worker_init_fn)"
   ]
  },
  {
   "cell_type": "code",
   "execution_count": 12,
   "id": "5ce9bb27",
   "metadata": {},
   "outputs": [],
   "source": [
    "points_k1 = torch.rand(32,2048,3)"
   ]
  },
  {
   "cell_type": "code",
   "execution_count": 13,
   "id": "805eb454",
   "metadata": {},
   "outputs": [],
   "source": [
    "batch = next(train_loader.__iter__())"
   ]
  },
  {
   "cell_type": "code",
   "execution_count": 14,
   "id": "f25bb948",
   "metadata": {},
   "outputs": [
    {
     "data": {
      "text/plain": [
       "torch.Size([32, 100000, 3])"
      ]
     },
     "execution_count": 14,
     "metadata": {},
     "output_type": "execute_result"
    }
   ],
   "source": [
    "batch['inputs.kdtree_points'].shape"
   ]
  },
  {
   "cell_type": "code",
   "execution_count": 40,
   "id": "49b7706b",
   "metadata": {},
   "outputs": [],
   "source": [
    "\n",
    "#distance_matrix(torch.rand(16, 100000, 3), torch.rand(16, 2048, 3)).topk(1)\n",
    "points_k1_cpu = points_k1.detach().cpu().numpy()\n",
    "points_kdtree = batch['inputs.kdtree_points'].cpu().numpy()\n",
    "d_k1 = torch.tensor([KDTree(points_kdtree[i]).query(x)[0] for i, x in enumerate(points_k1_cpu)])\n"
   ]
  },
  {
   "cell_type": "code",
   "execution_count": 41,
   "id": "0b51a70b",
   "metadata": {},
   "outputs": [
    {
     "data": {
      "text/plain": [
       "torch.Size([32, 2048])"
      ]
     },
     "execution_count": 41,
     "metadata": {},
     "output_type": "execute_result"
    }
   ],
   "source": [
    "d_k1.shape"
   ]
  },
  {
   "cell_type": "code",
   "execution_count": 2,
   "id": "25c7a0c3",
   "metadata": {},
   "outputs": [],
   "source": [
    "def square_distance(src, dst):\n",
    "    \"\"\"\n",
    "    Calculate Euclid distance between each two points.\n",
    "    src^T * dst = xn * xm + yn * ym + zn * zm；\n",
    "    sum(src^2, dim=-1) = xn*xn + yn*yn + zn*zn;\n",
    "    sum(dst^2, dim=-1) = xm*xm + ym*ym + zm*zm;\n",
    "    dist = (xn - xm)^2 + (yn - ym)^2 + (zn - zm)^2\n",
    "         = sum(src**2,dim=-1)+sum(dst**2,dim=-1)-2*src^T*dst\n",
    "    Input:\n",
    "        src: source points, [B, N, C]\n",
    "        dst: target points, [B, M, C]\n",
    "    Output:\n",
    "        dist: per-point square distance, [B, N, M]\n",
    "    \"\"\"\n",
    "    B, N, _ = src.shape\n",
    "    _, M, _ = dst.shape\n",
    "    dist = -2 * torch.matmul(src, dst.permute(0, 2, 1))\n",
    "    dist += torch.sum(src ** 2, -1).view(B, N, 1)\n",
    "    dist += torch.sum(dst ** 2, -1).view(B, 1, M)\n",
    "    return dist\n"
   ]
  },
  {
   "cell_type": "code",
   "execution_count": 28,
   "id": "a6f90b45",
   "metadata": {},
   "outputs": [],
   "source": [
    "a = torch.rand(32, 2048, 3, requires_grad=True).cuda()"
   ]
  },
  {
   "cell_type": "code",
   "execution_count": 29,
   "id": "5546017a",
   "metadata": {},
   "outputs": [],
   "source": [
    "b = torch.rand(32, 50000, 3).cuda()"
   ]
  },
  {
   "cell_type": "code",
   "execution_count": 30,
   "id": "5313caac",
   "metadata": {},
   "outputs": [
    {
     "data": {
      "text/plain": [
       "torch.Size([32, 2048, 10])"
      ]
     },
     "execution_count": 30,
     "metadata": {},
     "output_type": "execute_result"
    }
   ],
   "source": [
    "square_distance(a, b).topk(10).values.shape"
   ]
  },
  {
   "cell_type": "code",
   "execution_count": 31,
   "id": "938368e8",
   "metadata": {},
   "outputs": [
    {
     "data": {
      "text/plain": [
       "0"
      ]
     },
     "execution_count": 31,
     "metadata": {},
     "output_type": "execute_result"
    }
   ],
   "source": [
    "torch.cuda.empty_cache()\n",
    "import gc; gc.collect()"
   ]
  },
  {
   "cell_type": "code",
   "execution_count": 28,
   "id": "88752224",
   "metadata": {},
   "outputs": [
    {
     "data": {
      "text/plain": [
       "(2048, 3)"
      ]
     },
     "execution_count": 28,
     "metadata": {},
     "output_type": "execute_result"
    }
   ],
   "source": [
    "surface_points =  shape.get('inputs')\n",
    "query_points = shape.get('points')\n",
    "query_points.shape"
   ]
  },
  {
   "cell_type": "code",
   "execution_count": null,
   "id": "4c9a6bb9",
   "metadata": {},
   "outputs": [],
   "source": []
  },
  {
   "cell_type": "code",
   "execution_count": 31,
   "id": "4d5d0c89",
   "metadata": {},
   "outputs": [],
   "source": [
    "kdtree = KDTree(surface_points)\n",
    "dist, idx = kdtree.query(query_points)"
   ]
  },
  {
   "cell_type": "code",
   "execution_count": 61,
   "id": "66a28562",
   "metadata": {},
   "outputs": [
    {
     "data": {
      "text/plain": [
       "2998"
      ]
     },
     "execution_count": 61,
     "metadata": {},
     "output_type": "execute_result"
    }
   ],
   "source": [
    "idx.shape\n",
    "surface_points[idx].shape\n",
    "idx.max()"
   ]
  },
  {
   "cell_type": "code",
   "execution_count": 38,
   "id": "3f43fb5f",
   "metadata": {},
   "outputs": [
    {
     "name": "stdout",
     "output_type": "stream",
     "text": [
      "\u001b[0m\u001b[01;34mimg_choy2016\u001b[0m/  model.binvox  pointcloud.npz  points.npz\r\n"
     ]
    }
   ],
   "source": [
    "ls data/ShapeNet/02691156/d171967c6353177bb87697d3904b168b/"
   ]
  },
  {
   "cell_type": "code",
   "execution_count": 130,
   "id": "3c8a5543",
   "metadata": {},
   "outputs": [],
   "source": [
    "def distance(points_file, pointcloud_file, name, sigma):\n",
    "    pointcloud = pointcloud_file.get('points')\n",
    "    points = pointcloud + sigma*np.random.randn(pointcloud.shape) #points_file.get('points')\n",
    "    kdtree = KDTree(pointcloud)\n",
    "    dist, idx = kdtree.query(points)\n",
    "    np.savez(name, \n",
    "             points=points, occupancies=points_file.get('occupancies'),\n",
    "             loc=points_file.get('loc'), scale=points_file.get('scale'), dist=dist, closest_points=pointcloud[idx])"
   ]
  },
  {
   "cell_type": "code",
   "execution_count": 131,
   "id": "6de313be",
   "metadata": {},
   "outputs": [],
   "source": [
    "from glob import glob\n",
    "import multiprocessing as mp\n",
    "from multiprocessing import Pool"
   ]
  },
  {
   "cell_type": "code",
   "execution_count": 118,
   "id": "7fc1ab7d",
   "metadata": {},
   "outputs": [
    {
     "data": {
      "text/plain": [
       "'data/ShapeNet/04530566/val.lst'"
      ]
     },
     "execution_count": 118,
     "metadata": {},
     "output_type": "execute_result"
    }
   ],
   "source": [
    "sorted(glob('data/ShapeNet/*/*'))[-1]"
   ]
  },
  {
   "cell_type": "code",
   "execution_count": 132,
   "id": "52b5582f",
   "metadata": {},
   "outputs": [],
   "source": [
    "#points_distance is the one with pointclouds coordinates directly, no need to load pointcloud twice during training \n",
    "def process(path, sigma):\n",
    "    points_file = np.load(path +'/points.npz')\n",
    "    pointcloud_file = np.load(path +'/pointcloud.npz')\n",
    "    name = path + f'/points_distance_{sigma}.npz'\n",
    "    distance(points_file, pointcloud_file, name)"
   ]
  },
  {
   "cell_type": "code",
   "execution_count": 104,
   "id": "3129a11b",
   "metadata": {},
   "outputs": [
    {
     "name": "stdout",
     "output_type": "stream",
     "text": [
      "(100000,)\n"
     ]
    }
   ],
   "source": [
    "process(glob('data/ShapeNet/*/*')[0])"
   ]
  },
  {
   "cell_type": "code",
   "execution_count": 133,
   "id": "68ae1701",
   "metadata": {},
   "outputs": [],
   "source": [
    "#p = Pool(mp.cpu_count())"
   ]
  },
  {
   "cell_type": "code",
   "execution_count": 134,
   "id": "a6e2078b",
   "metadata": {},
   "outputs": [],
   "source": [
    "#m = p.map(process, glob('data/ShapeNet/*/*/')); p.close(); p.join()"
   ]
  },
  {
   "cell_type": "code",
   "execution_count": 146,
   "id": "112f9466",
   "metadata": {},
   "outputs": [],
   "source": [
    "test = np.load('data/ShapeNet/02691156/d171967c6353177bb87697d3904b168b/pointcloud.npz')"
   ]
  },
  {
   "cell_type": "code",
   "execution_count": 147,
   "id": "03259f71",
   "metadata": {},
   "outputs": [
    {
     "data": {
      "text/plain": [
       "['points', 'normals', 'loc', 'scale']"
      ]
     },
     "execution_count": 147,
     "metadata": {},
     "output_type": "execute_result"
    }
   ],
   "source": [
    "list(test.keys())"
   ]
  },
  {
   "cell_type": "code",
   "execution_count": 145,
   "id": "da4f0301",
   "metadata": {},
   "outputs": [
    {
     "data": {
      "text/plain": [
       "(100000, 3)"
      ]
     },
     "execution_count": 145,
     "metadata": {},
     "output_type": "execute_result"
    }
   ],
   "source": [
    "test['points'].shape"
   ]
  },
  {
   "cell_type": "code",
   "execution_count": 148,
   "id": "e66bdd76",
   "metadata": {},
   "outputs": [],
   "source": [
    "def distance(points, kdtree):\n",
    "    dist, idx = kdtree.query(points)\n",
    "    return dist"
   ]
  },
  {
   "cell_type": "code",
   "execution_count": 3,
   "id": "b624fe6d",
   "metadata": {},
   "outputs": [
    {
     "data": {
      "text/plain": [
       "'/home/nizar/convolutional_occupancy_networks'"
      ]
     },
     "execution_count": 3,
     "metadata": {},
     "output_type": "execute_result"
    }
   ],
   "source": [
    "pwd"
   ]
  },
  {
   "cell_type": "code",
   "execution_count": 1,
   "id": "952331fa",
   "metadata": {},
   "outputs": [],
   "source": [
    "import torch "
   ]
  },
  {
   "cell_type": "code",
   "execution_count": 2,
   "id": "0a6e4f25",
   "metadata": {},
   "outputs": [
    {
     "name": "stdout",
     "output_type": "stream",
     "text": [
      "/home/nizar/convolutional_occupancy_networks/ChamferDistancePytorch\n"
     ]
    }
   ],
   "source": [
    "cd ChamferDistancePytorch"
   ]
  },
  {
   "cell_type": "code",
   "execution_count": 4,
   "id": "c1c32897",
   "metadata": {},
   "outputs": [],
   "source": [
    "import torch \n",
    "import chamfer3D.dist_chamfer_3D\n",
    "#chamLoss(torch.rand(2,1, 3).cuda(), torch.rand(2,1, 3).cuda())"
   ]
  },
  {
   "cell_type": "code",
   "execution_count": null,
   "id": "7a7125d0",
   "metadata": {},
   "outputs": [],
   "source": [
    "chamLoss = chamfer3D.dist_chamfer_3D.chamfer_3DDist()\n",
    "points1 = torch.rand(2, 10, 3).cuda()\n",
    "points2 = torch.rand(2, 20, 3, requires_grad=True).cuda()\n",
    "dist1, dist2, idx1, idx2 = chamLoss(points1, points2)"
   ]
  },
  {
   "cell_type": "code",
   "execution_count": 5,
   "id": "328834c8",
   "metadata": {},
   "outputs": [],
   "source": [
    "chamLoss = chamfer3D.dist_chamfer_3D.chamfer_3DDist()"
   ]
  },
  {
   "cell_type": "code",
   "execution_count": null,
   "id": "9fdd9cdc",
   "metadata": {},
   "outputs": [],
   "source": [
    "chamLoss(torch.rand(2,1, 3).cuda(), torch.rand(2,1, 3).cuda())"
   ]
  },
  {
   "cell_type": "code",
   "execution_count": 5,
   "id": "35fae086",
   "metadata": {},
   "outputs": [
    {
     "name": "stdout",
     "output_type": "stream",
     "text": [
      "1.9.0+cu111\n",
      "['sm_37', 'sm_50', 'sm_60', 'sm_70', 'sm_75', 'sm_80', 'sm_86']\n"
     ]
    }
   ],
   "source": [
    "import torch\n",
    "print(torch.__version__)\n",
    "print(torch.cuda.get_arch_list())"
   ]
  },
  {
   "cell_type": "code",
   "execution_count": null,
   "id": "0d0100e1",
   "metadata": {},
   "outputs": [],
   "source": []
  }
 ],
 "metadata": {
  "kernelspec": {
   "display_name": "conv_onet",
   "language": "python",
   "name": "conv_onet"
  },
  "language_info": {
   "codemirror_mode": {
    "name": "ipython",
    "version": 3
   },
   "file_extension": ".py",
   "mimetype": "text/x-python",
   "name": "python",
   "nbconvert_exporter": "python",
   "pygments_lexer": "ipython3",
   "version": "3.6.7"
  }
 },
 "nbformat": 4,
 "nbformat_minor": 5
}
