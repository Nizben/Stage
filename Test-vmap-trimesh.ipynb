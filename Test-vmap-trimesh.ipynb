{
 "cells": [
  {
   "cell_type": "code",
   "execution_count": 21,
   "id": "a36f4fad",
   "metadata": {},
   "outputs": [],
   "source": [
    "import torch \n",
    "import trimesh\n",
    "from torch._vmap_internals import vmap"
   ]
  },
  {
   "cell_type": "code",
   "execution_count": 16,
   "id": "28eb056c",
   "metadata": {},
   "outputs": [],
   "source": [
    "N = 5\n",
    "def f(x):\n",
    "    return x ** 2\n",
    "\n",
    "x = torch.randn(N, requires_grad=True)\n",
    "y = f(x)\n",
    "basis_vectors = torch.eye(N)"
   ]
  },
  {
   "cell_type": "code",
   "execution_count": 17,
   "id": "d05b9d59",
   "metadata": {},
   "outputs": [],
   "source": [
    "jacobian_rows = [torch.autograd.grad(y, x, v, retain_graph=True)[0]\n",
    "                 for v in basis_vectors.unbind()]\n",
    "jacobian = torch.stack(jacobian_rows)"
   ]
  },
  {
   "cell_type": "code",
   "execution_count": 6,
   "id": "62a9942d",
   "metadata": {},
   "outputs": [
    {
     "data": {
      "text/plain": [
       "(tensor([0.7475, 0.6231, 0.2283, 0.3291, 0.2330, 0.5594, 0.7185, 0.6130, 0.9051,\n",
       "         0.4686]),\n",
       " tensor([0.7480, 0.8572, 0.3785, 0.3207, 0.5242, 0.6235, 0.1700, 0.3378, 0.9407,\n",
       "         0.7856]),\n",
       " tensor([0.5240, 0.1346, 0.9546, 0.4070, 0.9171, 0.3123, 0.2728, 0.2720, 0.2472,\n",
       "         0.5011]),\n",
       " tensor([0.3984, 0.5078, 0.1888, 0.5931, 0.3870, 0.3611, 0.5308, 0.9830, 0.3591,\n",
       "         0.6344]),\n",
       " tensor([0.6797, 0.0638, 0.1354, 0.6357, 0.8826, 0.9952, 0.2160, 0.9387, 0.1998,\n",
       "         0.8028]))"
      ]
     },
     "execution_count": 6,
     "metadata": {},
     "output_type": "execute_result"
    }
   ],
   "source": [
    "(torch.rand(5,10)).unbind()"
   ]
  },
  {
   "cell_type": "code",
   "execution_count": 19,
   "id": "2ed891c2",
   "metadata": {},
   "outputs": [],
   "source": [
    "def get_vjp(v):\n",
    "    return torch.autograd.grad(y, x, v)[0]"
   ]
  },
  {
   "cell_type": "code",
   "execution_count": 20,
   "id": "1e1b4d07",
   "metadata": {},
   "outputs": [
    {
     "name": "stdout",
     "output_type": "stream",
     "text": [
      "ok\n"
     ]
    },
    {
     "name": "stderr",
     "output_type": "stream",
     "text": [
      "/home/nizar/miniconda3/envs/conv_onet/lib/python3.6/site-packages/ipykernel_launcher.py:1: UserWarning: torch.vmap is an experimental prototype that is subject to change and/or deletion. Please use at your own risk. There may be unexpected performance cliffs due to certain operators not being implemented. To see detailed performance warnings please use `torch._C._debug_only_display_vmap_fallback_warnings(True) before the call to `vmap`.\n",
      "  \"\"\"Entry point for launching an IPython kernel.\n"
     ]
    }
   ],
   "source": [
    "jacobian_vmap = vmap(get_vjp)(basis_vectors)\n",
    "assert torch.allclose(jacobian_vmap, jacobian)\n",
    "print('ok')"
   ]
  },
  {
   "cell_type": "code",
   "execution_count": 3,
   "id": "64b5ca31",
   "metadata": {},
   "outputs": [],
   "source": [
    "import torch\n",
    "import torch.optim as optim\n",
    "import numpy as np\n",
    "import os\n",
    "import argparse\n",
    "import time, datetime\n",
    "import matplotlib; matplotlib.use('Agg')\n",
    "from src import config, data\n",
    "from src.checkpoints import CheckpointIO\n",
    "from collections import defaultdict\n",
    "import shutil\n",
    "from tensorboardX import SummaryWriter"
   ]
  },
  {
   "cell_type": "code",
   "execution_count": 4,
   "id": "8c761bf5",
   "metadata": {},
   "outputs": [],
   "source": [
    "cfg = config.load_config('configs/pointcloud/grid.yaml', 'configs/default.yaml')\n",
    "is_cuda = (torch.cuda.is_available())\n",
    "device = torch.device(\"cuda\" if is_cuda else \"cpu\")\n",
    "train_dataset = config.get_dataset('train', cfg)"
   ]
  },
  {
   "cell_type": "code",
   "execution_count": null,
   "id": "cc42625d",
   "metadata": {},
   "outputs": [],
   "source": [
    "mesh = trimesh.Trimesh(vertices=shape['inputs'], vertex_normals = shape['inputs.normals'])\n",
    "mesh.export('mesh.ply', vertex_normal = True, include_attributes =True);"
   ]
  },
  {
   "cell_type": "code",
   "execution_count": null,
   "id": "7d5611c3",
   "metadata": {},
   "outputs": [],
   "source": []
  },
  {
   "cell_type": "code",
   "execution_count": null,
   "id": "d9d79021",
   "metadata": {},
   "outputs": [],
   "source": []
  },
  {
   "cell_type": "code",
   "execution_count": null,
   "id": "a7b08888",
   "metadata": {},
   "outputs": [],
   "source": []
  }
 ],
 "metadata": {
  "kernelspec": {
   "display_name": "Python 3",
   "language": "python",
   "name": "python3"
  },
  "language_info": {
   "codemirror_mode": {
    "name": "ipython",
    "version": 3
   },
   "file_extension": ".py",
   "mimetype": "text/x-python",
   "name": "python",
   "nbconvert_exporter": "python",
   "pygments_lexer": "ipython3",
   "version": "3.6.7"
  }
 },
 "nbformat": 4,
 "nbformat_minor": 5
}
